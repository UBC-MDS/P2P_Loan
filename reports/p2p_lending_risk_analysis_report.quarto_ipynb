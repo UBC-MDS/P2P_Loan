{
  "cells": [
    {
      "cell_type": "markdown",
      "metadata": {},
      "source": [
        "---\n",
        "title: P2P Online Lending Default Prediction- A Usecase on LendingClub Default Risk\n",
        "author: Mavis Wong, Yasmin Hassan, Abeba N. Turi\n",
        "date: 2024/12/06\n",
        "jupyter: python3\n",
        "format:\n",
        "  html:\n",
        "    toc: true\n",
        "    toc-depth: 6\n",
        "  pdf:\n",
        "    toc: true\n",
        "    toc-depth: 6\n",
        "bibliography: references.bib\n",
        "execute:\n",
        "  echo: false\n",
        "  warning: false\n",
        "editor: source\n",
        "---"
      ],
      "id": "6fb5cc04"
    },
    {
      "cell_type": "code",
      "metadata": {},
      "source": [
        "# Import \n",
        "import os\n",
        "import numpy as np\n",
        "import pandas as pd\n",
        "from IPython.display import Markdown, display\n",
        "from tabulate import tabulate"
      ],
      "id": "7607c202",
      "execution_count": null,
      "outputs": []
    },
    {
      "cell_type": "code",
      "metadata": {},
      "source": [
        "info = pd.read_csv(\"../results/tables/info.csv\", index_col=0)\n",
        "info = info.rename({\"Non-Null\": \"Non-Null Count\"}).drop(columns=\"Count\")\n",
        "confusion_matrix = pd.read_csv(\"../results/tables/confusion_matrix.csv\", index_col=0)\n",
        "cv_results = pd.read_csv(\"../results/tables/cv_results.csv\", index_col=0)\n",
        "model_results = pd.read_csv(\"../results/tables/model_results.csv\", index_col=0)\n",
        "negative_coef = pd.read_csv(\"../results/tables/negative_coef.csv\", index_col=0)\n",
        "positive_coef = pd.read_csv(\"../results/tables/positive_coef.csv\", index_col=0)\n",
        "test_results = pd.read_csv(\"../results/tables/test_results.csv\", index_col=0)\n",
        "target_dist = pd.read_csv(\"../results/tables/target_dist.csv\", index_col=0)"
      ],
      "id": "2fdfe367",
      "execution_count": null,
      "outputs": []
    },
    {
      "cell_type": "markdown",
      "metadata": {},
      "source": [
        "# 1. Summary<br>\n",
        "This work intends to leverage machine learning models to predict borrower behavior and, hence, the probability of default. More specifically, the work focuses on predicting loan defaults using historical data from the Lending Club platform. We uncover patterns and trends in borrower risk profiles by applying advanced preprocessing techniques, exploratory data analysis (EDA), and a Logistic Regression model. The final model demonstrated strong performance on unseen test data, achieving an accuracy of 84.0%. Out of 1,916 test cases, the model correctly predicted 1,608 cases, with 308 incorrect predictions. These errors included both false positives (predicting a loan default when it didn't occur) and false negatives (failing to predict an actual default). While false negatives pose a greater risk in financial decision-making, this model provides actionable insights to improve risk management and reduce potential financial losses for the platform. Despite its promising predictive capabilities, further research is needed to enhance the model's accuracy and better understand the characteristics of misclassified loans. Such improvements could play a crucial role in minimizing financial risks and maximizing the model's effectiveness in peer-to-peer lending platforms\n",
        "\n",
        "# 2. Introduction <br>\n",
        "Crowd-based business models are one of the last decade’s developments with the proliferation of platform economies and web technology applications [@sutherland2018sharing]. One of such developments following the 2007 financial crisis are the P2P online lending platforms. The backbone of the digital economic system built on this is that it relies on trust a currency. Like all other crowd-based business models, P2P online lending heavily relied on trustworthiness of borrowers [@lenz2016peer]. To help with this, online platforms like LendingClub used a number of features to define eligibility and rate of access to loan for potential borrowers.Traditional credit risk analysis often relies on rule-based systems or credit scores, which might not fully capture the complexities of borrower behavior. By applying Logistic Regression, we aim to develop a model that is both interpretable and effective in identifying high-risk loans, see [@khandani2010consumer]. This analysis intends to provide a data-driven approach to improve credit decision-making in a broader context of platform based transactions through machine learning models.\n",
        "Extensive research has been conducted on borrower risk behaviour analysis and trust within P2P online lending system, highlighting the critical role trust and predictability holds in ensuring platform sustainability and mitigating default risks [@cai2016judging] . Building on this, this work focuses on developing a comprehensive risk analysis framework through machine hlearning models that will help predict borrower behaviour.\n",
        "\n",
        "\n",
        "# 3. Methods <br>\n",
        "\n",
        "## 3.1 Data <br>\n",
        "### Data Source\n",
        "This analysis is based on the historic loan data from LendingClub [@lendingclub].\n",
        "It contains various borrower and loan features, such as interest rates, annual income, debt-to-income ratio (DTI), and credit history. The target variable, not.fully.paid, indicates whether the borrower defaulted on the loan (1) or successfully repaid it (0).\n",
        "\n",
        "## Feature Description\n",
        "The key features taken into account for this analysis are:\n",
        "\n",
        "| **Variable**         | **Description**                                                             |\n",
        "|----------------------|-----------------------------------------------------------------------------|\n",
        "| `purpose`            | The purpose of the loan                                                      |\n",
        "| `int.rate`           | Interest rate of the loan the applicant received                             |\n",
        "| `installment`        | Monthly payment for the loan the applicant received                          |\n",
        "| `log.annual.inc`     | Annual income (growth rate)                                                  |\n",
        "| `dti`                | Debt-to-income ratio                                                         |\n",
        "| `revol.bal`          | Total credit revolving balance                                               |\n",
        "| `revol.util`         | Revolving line utilization rate                                              |\n",
        "| `inq.last.6mths`     | The number of inquiries in the past 6 months                                 |\n",
        "| `delinq.2yrs`        | Delinquencies on lines of credit in the last 2 years                         |\n",
        "| `pub.rec`            | The number of derogatory public records                                      |\n",
        "| `fico`               | FICO credit score                                                            |\n",
        "| `days.with.cr.line`  | Days with Credit Line                                                       |\n",
        "| `not.fully.paid`     | Binary response on whether the loan is paid or not                           |\n",
        "\n",
        "\n",
        "\n",
        "# 4. Analysis <br>\n",
        "The dataset was split into training (80%) and test (20%) sets, resulting in 1916 observations in the test set.\n",
        "Logistic Regression Model was selected as the final model to predict loan default risk due to its simplicity, slightly higher accuracy, and interpretability. All variables included in the original data set were used in model fitting. \n",
        "\n",
        "We decided to use accuracy score as the classification metrics. In financial decision-making, while false negative impose greater financial risk to the platform, false positive  can impose great financial strain on the borrower. Therefore, it is important to correctly identifying both defaulted and fully paid loans. \n",
        " \n",
        " We have choosen the hyperparameter `C` using a 10-fold cross-validation. The regularization strength C is a hyperparameter that controls the trade-off between bias and variance. A high value of C corresponds to weaker regularization (less penalty on large coefficients), which might lead to overfitting, while a low value of C increases regularization and might underfit the model. We conduct GridSearch on a logarithmic range from $10^{-5}$ to $10^{5}$. With the range spanning over a few orders of magnitude, this will ensure the model neither overfits nor underfits.\n",
        "\n",
        "All numeric features were standardized using standardscaler, while categorical features were preprocessed using one-hot encoding before model fitting. Any missing values were imputed using the median for numeric features or most frequent value for categorical features.\n",
        "\n",
        "Python [@Python] language was used to conduct this analysis as well as the following packages: pandas[@pandas], numpy[@numpy], matplotlib[@matplotlib], altair[@altair], sklearn[@sklearn].\n",
        "\n",
        "\n",
        "## 4.1 Exploratory Data Analysis \n",
        "\n",
        "In order for us to draw context about the data, let us have a look at the first few rows of the data; check the info about all columns, data types, and number of NaN values; and summary statistis.\n"
      ],
      "id": "8968b841"
    },
    {
      "cell_type": "code",
      "metadata": {},
      "source": [
        "#| label: tbl-info\n",
        "#| tbl-cap: Information on all numeric columns in training data.\n",
        "\n",
        "Markdown(info.to_markdown())"
      ],
      "id": "tbl-info",
      "execution_count": null,
      "outputs": []
    },
    {
      "cell_type": "markdown",
      "metadata": {},
      "source": [
        "To evaluate the usefulness of predictors for identifying loan defaults, we conducted an exploratory data analysis. (@fig-feature_dist) Features such as int.rate (interest rate) and dti (debt-to-income ratio) displayed notable differences between borrowers who fully paid their loans and those who defaulted. For example, loans with higher interest rates (int.rate) were associated with a greater likelihood of default, while borrowers with lower debt-to-income ratios (dti) were less likely to default. \n",
        "\n",
        "![Empirical distributions of numerical features between class `Defaulted(1)` and `Fully Paid(0)`](../results/figures/histograms_grid.png){#fig-feature_dist width=100%}\n",
        "\n",
        "Here, from a business perspective, we need to identify high-risk and low-risk loan profiles to improve lending profitability while minimizing default rates. This includes assessing borrower behavior, income stability, and loan utilization to create a predictive model for effective risk categorization [@cocser2019predictive].\n",
        "\n",
        "Key metrix and considerations:\n",
        "- Debt-to-Income Ratio \n",
        "\n",
        "- Credit Utilization Ratio( revol.util)_ how much of their revolving credit borrowers are using relative to their limit with higher values indicating possible financial strain.\n",
        "\n",
        "- Loan Duration vs. Risk: If longer-term loans are associated with higher default rate (days.with.cr.line).\n",
        "\n",
        "*Loan categories*\n",
        "Below, to help us create the loan categories, we are using the FICO risk profile categories [@ConsumerBureau] See also [@myFICO] and [@Equifax] for details on different ranges of credit.\n",
        "\n",
        "- Deep subprime (credit scores below 580)\n",
        "\n",
        "- Subprime (credit scores of 580-619)\n",
        "\n",
        "- Near-prime (credit scores of 620-659)\n",
        "\n",
        "- Prime (credit scores of 660-719)\n",
        "\n",
        "- Super-prime (credit scores of 720 or above)\n",
        "\n",
        "Categorical features like purpose also provided significant insights; loans categorized under \"small business\" and \"credit card\" showed higher default rates compared to others, such as \"home improvement.\" (@fig-purpose_risk)\n",
        "\n",
        "![Distribution of borrower's loan purpose by their risk profile category](../results/figures/loan_category_vs_purpose.png){#fig-purpose_risk width=100%}\n",
        "\n",
        "* Risk categories*\n",
        "Let us explore the data further with specific borrower risk profile categories. \n",
        "Based on the above 5 loan categories, we framed three main risk categories as high, medium and low risk profile with: \n",
        "fico score of at least 720 (Low Risk), 'fico' score between 650 and 720 ('Medium Risk') and 'fico' score of 650 as 'High Risk'. \n",
        "\n",
        "We have a high concentration of loans in the medium risk category and significant number low risk borrowers as compared to the high risk borrowers(@fig-risk_dist).\n",
        "\n",
        "![Bar Chart showing the distribution of borrower's risk level](../results/figures/risk_categories_distribution.png){#fig-risk_dist width=100%}\n",
        "\n",
        "\n",
        "*Descriptive Analysis*\n",
        "\n",
        "From the boxplot below (@fig-fico_purpose), we see that the low risk borrowers have lower average debt-to-income-ratio as compared to the borrowers with medium and high risk profile, based on their fico score. Note also the outliers in FICO scores for the loan purpose of debt consolidation type.\n",
        "\n",
        "![Boxplot comparing borrower's credit score by their loan purpose](../results/figures/boxplot_purpose.png){#fig-fico_purpose width=100%}\n",
        "\n",
        "![Boxplot comparing borrower's debt-to-income ratio by their risk level](../results/figures/boxplot_risk.png){#fig-dti_risk width=100%}\n",
        "\n",
        "From the boxplot above (@fig-dti_risk), we see that the low risk borrowers have lower average debt-to-income-ratio as compared to the borrowers with medium and high risk profile, based on their fico score. Note also the outliers in FICO scores for the loan purpose of debt consolidation type.\n",
        "\n",
        "\n",
        "*Correlation Analysis*\n",
        "The EDA for most of the numerical columns produce no strong general trends. \n",
        "We see a higher correlation level between fico and revo.util, and that of fico and interest rate. (@fig-corr_map)\n",
        "\n",
        "![Heatmap showing correlation between features for the lending club data](../results/figures/correlation_heatmap.png){#fig-corr_map width=100%}\n",
        "\n",
        "\n",
        "## 4.2 Model Building <br>\n",
        "\n",
        "To decide on the most suitable classification model to build on, we have conducted a 10 fold cross-validation on four different classification models: DecisionTree, kNN-neighbours, SVC and Logistic Regression. \n"
      ],
      "id": "7f1b02fa"
    },
    {
      "cell_type": "code",
      "metadata": {},
      "source": [
        "#| label: tbl-cv_results\n",
        "#| tbl-cap: Cross-validation results of various classification model.\n",
        "\n",
        "Markdown(cv_results.to_markdown())"
      ],
      "id": "tbl-cv_results",
      "execution_count": null,
      "outputs": []
    },
    {
      "cell_type": "markdown",
      "metadata": {},
      "source": [
        "@tbl-cv_results shows the mean validation score and training score for each model. We can see that the decision tree model has a much smaller cross-validation score compared to the other three models. \n",
        "\n",
        "While the SVC model has a slightly larger test score than the logistic model, it requires a significantly longer computation time. Since the test score for SVC and Logistic Regression is very similar (both being ~0.84), We have opt for the logistic regression model as our predictor. The train score of the Logistic Regression is the same as the validation score, suggesting that the model is likely not overfitted and will be able to generalize well to unseen data. \n",
        "\n",
        "*Hyperparameter Tuning*\n",
        "\n",
        "To find the optimal model for prediction, we used GridSearch to conduct 10-folds cross-validation over different values of C. The results were shown below (@fig-C_tuning), with the optimal C value is `{python} model_results[\"Best C\"][0]`.\n",
        "\n",
        "![10-folds cross-validation results for hyperparameter C tuning. Accuracy score was used as the classification metric.](../results/figures/param_C_tuning.png){#fig-C_tuning width=100%}\n",
        "\n",
        "\n",
        "# 5. Discussion and Implications\n",
        "\n",
        "Our model performs well on the test data, achieving aa test score of `{python} test_results[\"Accuracy Score\"][0]`.\n",
        "\n",
        "Here, we identify the top 5 influential features for predicting each class (@tbl-positive_coef, @tbl-negative_coef,). The Logistic Regression's coefficients has provided insights into feature importance, highlighting predictors such as higher credit score (`fico`) and larger income growth(`log.annual.inc`) to be associated with lower default risk. While borrowers with higher loan-to-income ratios, interest rates, and more inquires in the past 6 months exhibited a greater likelihood of default.\n"
      ],
      "id": "86a89233"
    },
    {
      "cell_type": "code",
      "metadata": {},
      "source": [
        "#| label: tbl-positive_coef\n",
        "#| tbl-cap: Top 3 influential feature for predicting class `Defaulted(1)`\n",
        "\n",
        "Markdown(positive_coef[:3].to_markdown())"
      ],
      "id": "tbl-positive_coef",
      "execution_count": null,
      "outputs": []
    },
    {
      "cell_type": "code",
      "metadata": {},
      "source": [
        "#| label: tbl-negative_coef\n",
        "#| tbl-cap: Top 3 influential feature for predicting class `Fully Paid(0)`\n",
        "\n",
        "Markdown(negative_coef[:3].to_markdown())"
      ],
      "id": "tbl-negative_coef",
      "execution_count": null,
      "outputs": []
    },
    {
      "cell_type": "markdown",
      "metadata": {},
      "source": [
        "The model correctly predicted 1608 cases out of 1916 on the test set, with 308 errors as shown in @tbl-confusion_matrix. "
      ],
      "id": "2c318139"
    },
    {
      "cell_type": "code",
      "metadata": {},
      "source": [
        "#| label: tbl-confusion_matrix\n",
        "#| tbl-cap: Confusion Matrix of Logistic Regression Model on Test Data\n",
        "\n",
        "Markdown(confusion_matrix.to_markdown())"
      ],
      "id": "tbl-confusion_matrix",
      "execution_count": null,
      "outputs": []
    },
    {
      "cell_type": "markdown",
      "metadata": {},
      "source": [
        "These errors were distributed across false positives and false negatives. False negatives, representing cases where a defaulted loan was not flagged, pose a greater financial risk, as these borrowers are likely to incur losses. False positives, on the other hand, might result in stricter lending requirements for borrowers who would have successfully repaid their loans.\n",
        "\n",
        "Despite the high accuracy score, our model fails to identify any of the 306 actual default loans. This suggests that the accuracy score cannot fully reflect the model performance. However, our model is a great predictor in identifying negative loan defaults (over 99% of the fully paid cases identified), and the high false negative limits its real-life application. Further steps are needed to improve the model so that it can also predict defaulted loans well.\n",
        "\n",
        "Future work will focus on improving the model's ability to predict defaults by exploring methods for handling imbalanced datasets. One approach is to experiment with machine learning models designed to manage class imbalance better: \n",
        "\n",
        "(1) Data-level Adjustments: Undersampling to Reduce the number of majority class instances to balance the dataset; Oversampling: Increasing the number of minority class instances to achieve balance; Random Oversampling: Duplicating minority class instances at random; SMOTE: Generating synthetic examples of the minority class to train the model better;  and \n",
        "\n",
        "(2) Training Procedure Adjustments like Stratified Splits, Class Weight Adjustment and Dynamic Resampling. \n",
        "\n",
        "\n",
        "## 5.1 Limitations\n"
      ],
      "id": "d0e7af77"
    },
    {
      "cell_type": "code",
      "metadata": {},
      "source": [
        "#| label: tbl-target_dist\n",
        "#| tbl-cap: Target distribution showing class imbalance biased towards class `Fully Paid(0)`\n",
        "\n",
        "Markdown(target_dist.to_markdown())"
      ],
      "id": "tbl-target_dist",
      "execution_count": null,
      "outputs": []
    },
    {
      "cell_type": "markdown",
      "metadata": {},
      "source": [
        "As we check the distribution of the target, we can see that the proportion of borrowers that has repayed their loans is significantly higher than those who defaulted their loans. \n",
        "The class imbalance of the target results in the model predicting most cases as \"negative\" (fully paid). \n",
        "\n",
        "Possible solutions to the high false negtative include adjusting the `class_weight` hyperparameter or adjusting the decision threshold of the logistic model. Since accuracy might not fully reflect the model performance in the case of class imbalance, it would be good to include other evaluation metrics when evaulating model performance. \n",
        "\n",
        "Also, based on the feature importances obtained, additional feature engineering or feature selection can potentially improve model performance. \n",
        "\n",
        "To account for possible non-linear decision boundary, another alternative is to use a non-linear classification model, for example a decision tree, which can model complex non-linear decision boundaries better.\n",
        "\n",
        "# 6. Reference\n"
      ],
      "id": "7434f683"
    }
  ],
  "metadata": {
    "kernelspec": {
      "name": "python3",
      "language": "python",
      "display_name": "Python 3 (ipykernel)",
      "path": "C:\\Users\\abina\\miniforge3\\envs\\loan_risk522\\share\\jupyter\\kernels\\python3"
    }
  },
  "nbformat": 4,
  "nbformat_minor": 5
}